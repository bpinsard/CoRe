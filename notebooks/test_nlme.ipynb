{
 "cells": [
  {
   "cell_type": "code",
   "execution_count": 1,
   "metadata": {
    "collapsed": true
   },
   "outputs": [],
   "source": [
    "data=read.csv('~/data//analysis/core_behav_rts.csv')"
   ]
  },
  {
   "cell_type": "code",
   "execution_count": 5,
   "metadata": {
    "collapsed": false
   },
   "outputs": [],
   "source": [
    "library(nlme)\n",
    "library(ggplot2)"
   ]
  },
  {
   "cell_type": "code",
   "execution_count": 7,
   "metadata": {
    "collapsed": false
   },
   "outputs": [
    {
     "ename": "ERROR",
     "evalue": "Error in parse(text = paste(\"~\", paste(nVal, collapse = \"/\"))): <text>:2:0: unexpected end of input\n1: ~ \n   ^\n",
     "output_type": "error",
     "traceback": [
      "Error in parse(text = paste(\"~\", paste(nVal, collapse = \"/\"))): <text>:2:0: unexpected end of input\n1: ~ \n   ^\n"
     ]
    }
   ],
   "source": [
    "lm_rt = nlme(rt_post~nkey,fixed=list(subject~.),data=data)"
   ]
  },
  {
   "cell_type": "code",
   "execution_count": null,
   "metadata": {
    "collapsed": true
   },
   "outputs": [],
   "source": []
  }
 ],
 "metadata": {
  "kernelspec": {
   "display_name": "R",
   "language": "R",
   "name": "ir"
  },
  "language_info": {
   "codemirror_mode": "r",
   "file_extension": ".r",
   "mimetype": "text/x-r-source",
   "name": "R",
   "pygments_lexer": "r",
   "version": "3.2.2"
  }
 },
 "nbformat": 4,
 "nbformat_minor": 0
}
