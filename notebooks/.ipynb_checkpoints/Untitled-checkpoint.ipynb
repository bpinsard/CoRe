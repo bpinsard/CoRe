{
 "cells": [
  {
   "cell_type": "code",
   "execution_count": 1,
   "metadata": {
    "collapsed": false
   },
   "outputs": [
    {
     "name": "stderr",
     "output_type": "stream",
     "text": [
      "/home/bpinsard/.virtualenvs/prod/local/lib/python2.7/site-packages/matplotlib/__init__.py:784: UserWarning: Found matplotlib configuration in ~/.matplotlib/. To conform with the XDG base directory standard, this configuration location has been deprecated on Linux, and the new location is now /home/bpinsard/.config/matplotlib/. Please move your configuration there to ensure that matplotlib will continue to find it in the future.\n",
      "  _get_xdg_config_dir())\n",
      "/home/bpinsard/.virtualenvs/prod/local/lib/python2.7/site-packages/pandas/rpy/__init__.py:11: FutureWarning: The pandas.rpy module is deprecated and will be removed in a future version. We refer to external packages like rpy2. \n",
      "See here for a guide on how to port your code to rpy2: http://pandas.pydata.org/pandas-docs/stable/r_interface.html\n",
      "  FutureWarning)\n"
     ]
    }
   ],
   "source": [
    "import pandas.rpy.common as com\n",
    "import pandas as pd\t\n",
    "import numpy as np\n",
    "import rpy2.robjects as robjects\n",
    "from rpy2.robjects.packages import importr\n",
    "nlme = importr('nlme')\n",
    "lme4 = importr('lme4')\n",
    "base = importr('base')"
   ]
  },
  {
   "cell_type": "code",
   "execution_count": 2,
   "metadata": {
    "collapsed": false
   },
   "outputs": [
    {
     "name": "stderr",
     "output_type": "stream",
     "text": [
      "/home/bpinsard/.virtualenvs/prod/local/lib/python2.7/site-packages/nipy/labs/glm/glm.py:7: FutureWarning: Module nipy.labs.utils.routines deprecated, will be removed\n",
      "  from ..utils import mahalanobis\n",
      "/home/bpinsard/.virtualenvs/prod/local/lib/python2.7/site-packages/nipype/interfaces/nipy/model.py:18: FutureWarning: Module nipy.labs.glm deprecated, will be removed. Please use nipy.modalities.fmri.glm instead.\n",
      "  import nipy.labs.glm.glm as GLM\n",
      "/home/bpinsard/.virtualenvs/prod/local/lib/python2.7/site-packages/numpy/lib/utils.py:95: DeprecationWarning: `scipy.weave` is deprecated, use `weave` instead!\n",
      "  warnings.warn(depdoc, DeprecationWarning)\n"
     ]
    }
   ],
   "source": [
    "import sys\n",
    "sys.path.insert(0,'/home/bpinsard/data/projects/CoRe/')\n",
    "import core.analysis.lme\n",
    "data=core.analysis.lme.data_for_lme()"
   ]
  },
  {
   "cell_type": "code",
   "execution_count": 3,
   "metadata": {
    "collapsed": false
   },
   "outputs": [],
   "source": [
    "pdf=pd.DataFrame(data)"
   ]
  },
  {
   "cell_type": "code",
   "execution_count": 4,
   "metadata": {
    "collapsed": true
   },
   "outputs": [],
   "source": [
    "del data"
   ]
  },
  {
   "cell_type": "code",
   "execution_count": null,
   "metadata": {
    "collapsed": true
   },
   "outputs": [],
   "source": [
    "sub_pdf = pdf[pdf.rt_pre!=np.inf]"
   ]
  },
  {
   "cell_type": "code",
   "execution_count": null,
   "metadata": {
    "collapsed": false
   },
   "outputs": [],
   "source": [
    "rdf = com.convert_to_r_dataframe(sub_pdf)"
   ]
  },
  {
   "cell_type": "code",
   "execution_count": null,
   "metadata": {
    "collapsed": true
   },
   "outputs": [],
   "source": [
    "learn_func = robjects.r(\"f <- function(learn_start, learn_gain, learn_rate, early_gain, sleep_gain, recons_gain, task) learn_start+learn_gain*exp(-learn_rate) - early_gain*as.numeric(task=='TestBoost-TSeq-D_One') + sleep_gain*as.numeric(task=='Reactivation-TSeq-D-Two')+ recons_gain*as.numeric(task=='Testing-TSeq-D-Three')\")"
   ]
  },
  {
   "cell_type": "code",
   "execution_count": null,
   "metadata": {
    "collapsed": false
   },
   "outputs": [],
   "source": [
    "learn_func(1,1,1,1,1,1,rdf.rx2('task'))"
   ]
  },
  {
   "cell_type": "code",
   "execution_count": null,
   "metadata": {
    "collapsed": true
   },
   "outputs": [],
   "source": [
    "model=robjects.Formula('rt_pre ~ learn_func(learn_start, learn_gain, learn_rate, early_gain, sleep_gain, recons_gain, task)')"
   ]
  },
  {
   "cell_type": "code",
   "execution_count": null,
   "metadata": {
    "collapsed": false
   },
   "outputs": [],
   "source": [
    "test1=nlme.nlme(\n",
    "    model,\n",
    "    fixed=[\n",
    "        robjects.Formula('learn_gain ~ subject_id')],\n",
    "    random=[\n",
    "        robjects.Formula('learn_start ~ subject_id'),\n",
    "        robjects.Formula('learn_rate ~ subject_id'),\n",
    "        robjects.Formula('early_gain ~ subject_id')],\n",
    "    data=rdf)"
   ]
  },
  {
   "cell_type": "code",
   "execution_count": null,
   "metadata": {
    "collapsed": false
   },
   "outputs": [],
   "source": [
    "base.summary(test1)"
   ]
  },
  {
   "cell_type": "code",
   "execution_count": null,
   "metadata": {
    "collapsed": true
   },
   "outputs": [],
   "source": []
  }
 ],
 "metadata": {
  "kernelspec": {
   "display_name": "Python 2",
   "language": "python",
   "name": "python2"
  },
  "language_info": {
   "codemirror_mode": {
    "name": "ipython",
    "version": 2
   },
   "file_extension": ".py",
   "mimetype": "text/x-python",
   "name": "python",
   "nbconvert_exporter": "python",
   "pygments_lexer": "ipython2",
   "version": "2.7.6"
  }
 },
 "nbformat": 4,
 "nbformat_minor": 0
}
